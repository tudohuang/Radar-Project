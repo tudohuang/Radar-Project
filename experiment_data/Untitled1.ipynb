{
 "cells": [
  {
   "cell_type": "code",
   "execution_count": null,
   "id": "e30fcc54-e431-4e70-b10e-349126a41ba1",
   "metadata": {},
   "outputs": [],
   "source": [
    "import serial\n",
    "import csv\n",
    "\n",
    "# 設定串口參數\n",
    "serial_port = 'COM4'  # 根據你的設備改變這個值\n",
    "baud_rate = 115200\n",
    "timeout = 2\n",
    "\n",
    "# 建立串口連接\n",
    "ser = serial.Serial(serial_port, baud_rate, timeout=timeout)\n",
    "\n",
    "# 定義每個測量類型的CSV文件名稱\n",
    "csv_files = {\n",
    "    'micr_micr_array.csv',\n",
    "    #'micr_micr.csv',\n",
    "}\n",
    "\n",
    "# 打開CSV文件以便寫入\n",
    "file_handlers = {key: open(file, mode='w', newline='') for key, file in csv_files.items()}\n",
    "csv_writers = {key: csv.writer(fh) for key, fh in file_handlers.items()}\n",
    "\n",
    "for key in csv_writers:\n",
    "    csv_writers[key].writerow([key])  # 寫入標題行\n",
    "\n",
    "try:\n",
    "    line_count = 0\n",
    "    max_lines = 1000  # 設置最大接收行數\n",
    "\n",
    "    while line_count < max_lines:\n",
    "        # 從串口讀取一行數據\n",
    "        line = ser.readline().decode('utf-8', errors='ignore').strip()\n",
    "        if not line:\n",
    "            continue\n",
    "\n",
    "        print(f\"接收到的行: {line}\")  # 調試輸出接收到的數據行\n",
    "\n",
    "        # 檢查和解析數據行\n",
    "        for key in csv_writers.keys():\n",
    "            if line.startswith(key + ':'):\n",
    "                try:\n",
    "                    error_value = float(line.split(':')[1].strip())\n",
    "                    csv_writers[key].writerow([error_value])\n",
    "                    print(f\"更新 {key}: {error_value}\")  # 調試輸出更新的數據\n",
    "                    line_count += 1  # 增加計數器\n",
    "                except (IndexError, ValueError) as e:\n",
    "                    print(f\"解析行時出錯: {line} ({e})\")  # 調試輸出錯誤信息\n",
    "\n",
    "except KeyboardInterrupt:\n",
    "    pass  # 允許通過 Ctrl+C 退出\n",
    "\n",
    "finally:\n",
    "    ser.close()\n",
    "    for fh in file_handlers.values():\n",
    "        fh.close()\n",
    "    print(f\"資料收集已結束，共接收了 {line_count} 行數據。\")\n"
   ]
  }
 ],
 "metadata": {
  "kernelspec": {
   "display_name": "Python 3 (ipykernel)",
   "language": "python",
   "name": "python3"
  },
  "language_info": {
   "codemirror_mode": {
    "name": "ipython",
    "version": 3
   },
   "file_extension": ".py",
   "mimetype": "text/x-python",
   "name": "python",
   "nbconvert_exporter": "python",
   "pygments_lexer": "ipython3",
   "version": "3.11.5"
  }
 },
 "nbformat": 4,
 "nbformat_minor": 5
}
