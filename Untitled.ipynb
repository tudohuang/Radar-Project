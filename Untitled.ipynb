{
 "cells": [
  {
   "cell_type": "code",
   "execution_count": 10,
   "id": "cc2ba3b1-2b45-40f8-a011-28417aff3857",
   "metadata": {},
   "outputs": [
    {
     "name": "stdout",
     "output_type": "stream",
     "text": [
      "        Frequency   Amplitude\n",
      "0      1.1085 kHz   0.88803 V\n",
      "1      1.1133 kHz   0.88752 V\n",
      "2      1.1231 kHz   0.88366 V\n",
      "3      1.1328 kHz   0.88383 V\n",
      "4      1.1328 kHz   0.88400 V\n",
      "...           ...         ...\n",
      "1995   8.0661 kHz   237.12 mV\n",
      "1996   8.0856 kHz   236.45 mV\n",
      "1997   8.0856 kHz   236.78 mV\n",
      "1998   8.1052 kHz   236.28 mV\n",
      "1999   8.1052 kHz   236.28 mV\n",
      "\n",
      "[2000 rows x 2 columns]\n"
     ]
    }
   ],
   "source": [
    "import pandas as pd\n",
    "import os\n",
    "\n",
    "# 定義資料夾路徑\n",
    "folder_path = \"data\"\n",
    "\n",
    "# 初始化一個字典來存儲結果\n",
    "combined_data = {'Frequency': [], 'Amplitude': []}\n",
    "\n",
    "# 處理資料夾中的每個文件\n",
    "for file_name in os.listdir(folder_path):\n",
    "    if file_name.endswith('.csv'):\n",
    "        file_path = os.path.join(folder_path, file_name)\n",
    "        with open(file_path, 'r', encoding='ISO-8859-1') as file:\n",
    "            lines = file.readlines()\n",
    "        \n",
    "        # 提取包含 \"Frequency\" 和 \"Amplitude\" 的行\n",
    "        for i, line in enumerate(lines):\n",
    "            if \"Extent\" in line:\n",
    "                if i + 1 < len(lines):\n",
    "                    next_line = lines[i + 1].strip().split(',')\n",
    "                    if \"Amplitude\" in next_line[1]:\n",
    "                        combined_data['Amplitude'].append(next_line[2])\n",
    "                    elif \"Frequency\" in next_line[1]:\n",
    "                        combined_data['Frequency'].append(next_line[2])\n",
    "                if i + 2 < len(lines):\n",
    "                    next_line = lines[i + 2].strip().split(',')\n",
    "                    if \"Amplitude\" in next_line[1]:\n",
    "                        combined_data['Amplitude'].append(next_line[2])\n",
    "                    elif \"Frequency\" in next_line[1]:\n",
    "                        combined_data['Frequency'].append(next_line[2])\n",
    "\n",
    "# 將結果轉換為 DataFrame\n",
    "combined_df = pd.DataFrame(combined_data)\n",
    "\n",
    "# 保存結果到新的 CSV 文件\n",
    "combined_df.to_csv('combined_data.csv', index=False)\n",
    "\n",
    "# 顯示 DataFrame\n",
    "print(combined_df)\n"
   ]
  },
  {
   "cell_type": "code",
   "execution_count": 6,
   "id": "655f10b5-6a11-4ff8-a24c-ffa4e80b975f",
   "metadata": {
    "tags": []
   },
   "outputs": [],
   "source": [
    "combined_df.to_csv('combined_data.csv', index=False)"
   ]
  },
  {
   "cell_type": "code",
   "execution_count": 2,
   "id": "45a61d48-3f8d-4eae-ae1d-acff6dd4332b",
   "metadata": {},
   "outputs": [
    {
     "name": "stdout",
     "output_type": "stream",
     "text": [
      "                      MSE      MAE\n",
      "hardware_timer  13.115391  3.61944\n",
      "delay            0.019875  0.13954\n",
      "DyDelay          0.001725  0.03044\n"
     ]
    }
   ],
   "source": [
    "import numpy as np\n",
    "import pandas as pd\n",
    "\n",
    "# 將數據放入 DataFrame\n",
    "data = {\n",
    "    \"hardware_timer\": [4.7123, 4.6906, 4.7123, 4.3912, 4.5908],\n",
    "    \"delay\": [1.1667, 1.1577, 1.1178, 1.1178, 1.1377],\n",
    "    \"DyDelay\": [0.9668, 0.967, 1.08, 1.0057, 0.9997],\n",
    "    \"real\": [1, 1, 1, 1, 1]\n",
    "}\n",
    "\n",
    "df = pd.DataFrame(data)\n",
    "\n",
    "# 計算誤差\n",
    "def calculate_errors(df, real_col):\n",
    "    errors = {}\n",
    "    for col in df.columns:\n",
    "        if col != real_col:\n",
    "            mse = np.mean((df[col] - df[real_col]) ** 2)\n",
    "            mae = np.mean(np.abs(df[col] - df[real_col]))\n",
    "            errors[col] = {\"MSE\": mse, \"MAE\": mae}\n",
    "    return errors\n",
    "\n",
    "# 計算各列與 real 列的誤差\n",
    "errors = calculate_errors(df, \"real\")\n",
    "\n",
    "# 顯示結果\n",
    "error_df = pd.DataFrame(errors).T\n",
    "print(error_df)\n"
   ]
  },
  {
   "cell_type": "code",
   "execution_count": 5,
   "id": "c58a7d4c-cacb-401d-897e-ac17c7cc86f4",
   "metadata": {
    "tags": []
   },
   "outputs": [
    {
     "data": {
      "text/plain": [
       "(hardware_timer    4.61944\n",
       " delay             1.13954\n",
       " DyDelay           1.00384\n",
       " real              1.00000\n",
       " dtype: float64,\n",
       " hardware_timer    0.137134\n",
       " delay             0.022450\n",
       " DyDelay           0.046233\n",
       " real              0.000000\n",
       " dtype: float64)"
      ]
     },
     "execution_count": 5,
     "metadata": {},
     "output_type": "execute_result"
    }
   ],
   "source": [
    "df.mean(),df.std()"
   ]
  },
  {
   "cell_type": "code",
   "execution_count": 11,
   "id": "7892f902-5a75-4a2f-ab1d-953455cba81a",
   "metadata": {},
   "outputs": [
    {
     "name": "stderr",
     "output_type": "stream",
     "text": [
      "C:\\Users\\Tudo\\anaconda3\\Lib\\site-packages\\matplotlib\\animation.py:884: UserWarning: Animation was deleted without rendering anything. This is most likely not intended. To prevent deletion, assign the Animation to a variable, e.g. `anim`, that exists until you output the Animation using `plt.show()` or `anim.save()`.\n",
      "  warnings.warn(\n"
     ]
    },
    {
     "data": {
      "image/png": "[encoded data removed]",
      "text/plain": [
       "<Figure size 640x480 with 1 Axes>"
      ]
     },
     "metadata": {},
     "output_type": "display_data"
    }
   ],
   "source": [
    "import numpy as np\n",
    "import matplotlib.pyplot as plt\n",
    "from matplotlib.animation import FuncAnimation\n",
    "\n",
    "# 設置參數\n",
    "f_s = 440  # 波源的頻率（Hz）W\n",
    "v_sound = 343  # 聲音速度（m/s）\n",
    "v_observer = 50  # 觀察者的速度（m/s）\n",
    "time = np.linspace(0, 10, 500)  # 動畫時間範圍\n",
    "\n",
    "# 計算頻率變化\n",
    "def calculate_frequency(v_o):\n",
    "    return f_s * (v_sound + v_o) / v_sound\n",
    "\n",
    "# 初始化圖表\n",
    "fig, ax = plt.subplots()\n",
    "ax.set_xlim(0, 10)\n",
    "ax.set_ylim(400, 500)\n",
    "line, = ax.plot([], [], 'ro', markersize=10)  # 觀察者的點\n",
    "freq_text = ax.text(0.05, 0.9, '', transform=ax.transAxes)\n",
    "\n",
    "# 更新動畫\n",
    "def update(frame):\n",
    "    current_time = time[frame]\n",
    "    current_position = v_observer * current_time\n",
    "    f_observed = calculate_frequency(v_observer)\n",
    "    \n",
    "    line.set_data([current_time], [f_observed])\n",
    "    freq_text.set_text(f\"Frequency: {f_observed:.2f} Hz\")\n",
    "    \n",
    "    return line, freq_text\n",
    "\n",
    "# 創建動畫\n",
    "ani = FuncAnimation(fig, update, frames=len(time), interval=50, blit=False)\n",
    "ani.save('d.gif')\n",
    "plt.xlabel(\"Time (s)\")\n",
    "plt.ylabel(\"Frequency Observed (Hz)\")\n",
    "plt.title(\"Doppler Effect: Moving Observer\")\n",
    "plt.grid(True)\n",
    "plt.show()\n"
   ]
  },
  {
   "cell_type": "code",
   "execution_count": null,
   "id": "78d53711-1331-4e1b-8d0d-98c228904599",
   "metadata": {},
   "outputs": [],
   "source": []
  }
 ],
 "metadata": {
  "kernelspec": {
   "display_name": "Python 3 (ipykernel)",
   "language": "python",
   "name": "python3"
  },
  "language_info": {
   "codemirror_mode": {
    "name": "ipython",
    "version": 3
   },
   "file_extension": ".py",
   "mimetype": "text/x-python",
   "name": "python",
   "nbconvert_exporter": "python",
   "pygments_lexer": "ipython3",
   "version": "3.11.5"
  }
 },
 "nbformat": 4,
 "nbformat_minor": 5
}
