{
 "cells": [
  {
   "cell_type": "code",
   "execution_count": 1,
   "id": "72bc02bc-78ab-4893-869d-f03df0691032",
   "metadata": {
    "tags": []
   },
   "outputs": [],
   "source": [
    "import FFT"
   ]
  },
  {
   "cell_type": "code",
   "execution_count": 32,
   "id": "bc1fa622-7dea-4de5-b68b-ab79cd2cd21f",
   "metadata": {
    "tags": []
   },
   "outputs": [],
   "source": [
    "f = FFT.calculate_frequency(r\"2cm.csv\")\n",
    "F = FFT.calculate_frequency(r\"1cm.csv\")\n",
    "f3 = FFT.calculate_frequency(r\"3cm.csv\")"
   ]
  },
  {
   "cell_type": "code",
   "execution_count": 33,
   "id": "b6cab60c",
   "metadata": {},
   "outputs": [
    {
     "data": {
      "text/plain": [
       "(3.717948717948718, 0.125, 2.4)"
      ]
     },
     "execution_count": 33,
     "metadata": {},
     "output_type": "execute_result"
    }
   ],
   "source": [
    "f,F,f3"
   ]
  },
  {
   "cell_type": "code",
   "execution_count": 22,
   "id": "0f57684d-70e0-4fd9-bac7-b3edd730c6f9",
   "metadata": {
    "tags": []
   },
   "outputs": [],
   "source": [
    "B = ((250e6)/5)*3.3\n",
    "t = 1e-3\n",
    "c = 3e8"
   ]
  },
  {
   "cell_type": "code",
   "execution_count": 25,
   "id": "f6ecba9c-0b0a-4cae-8111-1ccb1666e41d",
   "metadata": {
    "tags": []
   },
   "outputs": [],
   "source": [
    "B = ((250e6)/5)*3.3\n",
    "c = 3e8\n",
    "dcm = (f*c*t)/(2*B)*100"
   ]
  },
  {
   "cell_type": "code",
   "execution_count": 34,
   "id": "cfe80838",
   "metadata": {},
   "outputs": [],
   "source": [
    "B = ((250e6)/5)*3.3\n",
    "c = 3e8\n",
    "tcm = (f3*c*t)/(2*B)*100"
   ]
  },
  {
   "cell_type": "code",
   "execution_count": 35,
   "id": "7299e567-1642-4afd-9af9-63647807ac13",
   "metadata": {},
   "outputs": [],
   "source": [
    "B = ((250e6)/5)*3.3\n",
    "c = 3e8\n",
    "cm =(F*c*t)/(2*B)*100"
   ]
  },
  {
   "cell_type": "code",
   "execution_count": 36,
   "id": "2f25ccc1",
   "metadata": {},
   "outputs": [
    {
     "data": {
      "text/plain": [
       "(0.33799533799533804, 0.011363636363636364, 0.2181818181818182)"
      ]
     },
     "execution_count": 36,
     "metadata": {},
     "output_type": "execute_result"
    }
   ],
   "source": [
    "dcm,cm,tcm"
   ]
  },
  {
   "cell_type": "code",
   "execution_count": null,
   "id": "ebac0ddf",
   "metadata": {},
   "outputs": [],
   "source": []
  }
 ],
 "metadata": {
  "kernelspec": {
   "display_name": "Python 3 (ipykernel)",
   "language": "python",
   "name": "python3"
  },
  "language_info": {
   "codemirror_mode": {
    "name": "ipython",
    "version": 3
   },
   "file_extension": ".py",
   "mimetype": "text/x-python",
   "name": "python",
   "nbconvert_exporter": "python",
   "pygments_lexer": "ipython3",
   "version": "3.11.5"
  }
 },
 "nbformat": 4,
 "nbformat_minor": 5
}
