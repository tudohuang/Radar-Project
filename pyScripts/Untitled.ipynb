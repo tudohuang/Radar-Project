{
 "cells": [
  {
   "cell_type": "code",
   "execution_count": 40,
   "id": "72bc02bc-78ab-4893-869d-f03df0691032",
   "metadata": {
    "tags": []
   },
   "outputs": [],
   "source": [
    "import FFT"
   ]
  },
  {
   "cell_type": "code",
   "execution_count": 41,
   "id": "bc1fa622-7dea-4de5-b68b-ab79cd2cd21f",
   "metadata": {
    "tags": []
   },
   "outputs": [
    {
     "data": {
      "text/plain": [
       "0.0"
      ]
     },
     "execution_count": 41,
     "metadata": {},
     "output_type": "execute_result"
    }
   ],
   "source": [
    "FFT.calculate_frequency('SDS00003.CSV')"
   ]
  },
  {
   "cell_type": "code",
   "execution_count": 39,
   "id": "0f57684d-70e0-4fd9-bac7-b3edd730c6f9",
   "metadata": {
    "tags": []
   },
   "outputs": [],
   "source": [
    "B = ((250e6)/5)*3.3\n",
    "t = 11e-3\n",
    "c = 3e8"
   ]
  },
  {
   "cell_type": "code",
   "execution_count": 36,
   "id": "f6ecba9c-0b0a-4cae-8111-1ccb1666e41d",
   "metadata": {
    "tags": []
   },
   "outputs": [
    {
     "data": {
      "text/plain": [
       "3.85625"
      ]
     },
     "execution_count": 36,
     "metadata": {},
     "output_type": "execute_result"
    }
   ],
   "source": [
    "B = ((250e6)/5)*3.3\n",
    "t = 11e-3\n",
    "c = 3e8\n",
    "(385.625*c*t)/(2*B)"
   ]
  },
  {
   "cell_type": "code",
   "execution_count": 24,
   "id": "ec4cf769-23fa-4dfd-a4b1-23ceda79b5e0",
   "metadata": {
    "tags": []
   },
   "outputs": [
    {
     "data": {
      "text/plain": [
       "0.01"
      ]
     },
     "execution_count": 24,
     "metadata": {},
     "output_type": "execute_result"
    }
   ],
   "source": [
    "(c*t)/(2*B)"
   ]
  },
  {
   "cell_type": "code",
   "execution_count": null,
   "id": "7299e567-1642-4afd-9af9-63647807ac13",
   "metadata": {},
   "outputs": [],
   "source": []
  }
 ],
 "metadata": {
  "kernelspec": {
   "display_name": "Python 3 (ipykernel)",
   "language": "python",
   "name": "python3"
  },
  "language_info": {
   "codemirror_mode": {
    "name": "ipython",
    "version": 3
   },
   "file_extension": ".py",
   "mimetype": "text/x-python",
   "name": "python",
   "nbconvert_exporter": "python",
   "pygments_lexer": "ipython3",
   "version": "3.11.5"
  }
 },
 "nbformat": 4,
 "nbformat_minor": 5
}
