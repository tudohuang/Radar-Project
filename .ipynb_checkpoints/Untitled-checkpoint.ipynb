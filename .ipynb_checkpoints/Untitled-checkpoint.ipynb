{
 "cells": [
  {
   "cell_type": "code",
   "execution_count": null,
   "id": "cc2ba3b1-2b45-40f8-a011-28417aff3857",
   "metadata": {},
   "outputs": [],
   "source": [
    "import pandas as pd\n",
    "import os\n",
    "\n",
    "# 定義資料夾路徑\n",
    "folder_path = \"data\"\n",
    "\n",
    "# 初始化一個字典來存儲結果\n",
    "combined_data = {'Frequency': [], 'Amplitude': []}\n",
    "\n",
    "# 處理資料夾中的每個文件\n",
    "for file_name in os.listdir(folder_path):\n",
    "    if file_name.endswith('.csv'):\n",
    "        file_path = os.path.join(folder_path, file_name)\n",
    "        with open(file_path, 'r', encoding='ISO-8859-1') as file:\n",
    "            lines = file.readlines()\n",
    "        \n",
    "        # 提取包含 \"Frequency\" 和 \"Amplitude\" 的行\n",
    "        for i, line in enumerate(lines):\n",
    "            if \"Extent\" in line:\n",
    "                if i + 1 < len(lines):\n",
    "                    next_line = lines[i + 1].strip().split(',')\n",
    "                    if \"Amplitude\" in next_line[1]:\n",
    "                        combined_data['Amplitude'].append(next_line[2])\n",
    "                    elif \"Frequency\" in next_line[1]:\n",
    "                        combined_data['Frequency'].append(next_line[2])\n",
    "                if i + 2 < len(lines):\n",
    "                    next_line = lines[i + 2].strip().split(',')\n",
    "                    if \"Amplitude\" in next_line[1]:\n",
    "                        combined_data['Amplitude'].append(next_line[2])\n",
    "                    elif \"Frequency\" in next_line[1]:\n",
    "                        combined_data['Frequency'].append(next_line[2])\n",
    "\n",
    "# 將結果轉換為 DataFrame\n",
    "combined_df = pd.DataFrame(combined_data)\n",
    "\n",
    "# 保存結果到新的 CSV 文件\n",
    "combined_df.to_csv('/path/to/save/combined_data.csv', index=False)\n",
    "\n",
    "# 顯示 DataFrame\n",
    "print(combined_df)\n"
   ]
  }
 ],
 "metadata": {
  "kernelspec": {
   "display_name": "Python 3 (ipykernel)",
   "language": "python",
   "name": "python3"
  },
  "language_info": {
   "codemirror_mode": {
    "name": "ipython",
    "version": 3
   },
   "file_extension": ".py",
   "mimetype": "text/x-python",
   "name": "python",
   "nbconvert_exporter": "python",
   "pygments_lexer": "ipython3",
   "version": "3.11.5"
  }
 },
 "nbformat": 4,
 "nbformat_minor": 5
}
