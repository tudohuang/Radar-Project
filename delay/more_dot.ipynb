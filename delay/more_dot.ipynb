{
 "cells": [
  {
   "cell_type": "code",
   "execution_count": 4,
   "id": "eba7ed4e-9c57-44be-bfb4-9c2ab8a2b82c",
   "metadata": {
    "tags": []
   },
   "outputs": [
    {
     "name": "stdout",
     "output_type": "stream",
     "text": [
      "16: 332\n",
      "32: 590\n",
      "64: 1187\n",
      "128: 2373\n",
      "256: 4746\n",
      "512: 9503\n",
      "1024: 19006\n",
      "2048: 38019\n",
      "4096: 76037\n",
      "16: 295\n",
      "32: 589\n",
      "64: 1187\n",
      "128: 2374\n",
      "256: 4747\n",
      "512: 9502\n",
      "1024: 19007\n",
      "2048: 38021\n",
      "4096: 76040\n",
      "16: 295\n"
     ]
    }
   ],
   "source": [
    "import serial\n",
    "import time\n",
    "\n",
    "# 設置串列端口和波特率（根據實際情況調整）\n",
    "ser = serial.Serial('COM4', 9600, timeout=1)\n",
    "\n",
    "# 確保串列端口已經開啟\n",
    "time.sleep(2)\n",
    "\n",
    "try:\n",
    "    while True:\n",
    "        if ser.in_waiting:\n",
    "            data = ser.readline().decode('utf-8', errors='ignore').strip()\n",
    "            print(data)\n",
    "            # 你也可以將數據記錄到文件中\n",
    "            with open(\"timing_data.txt\", \"a\") as file:\n",
    "                file.write(data + \"\\n\")\n",
    "except KeyboardInterrupt:\n",
    "    # 終止程式時關閉串列端口\n",
    "    ser.close()\n"
   ]
  },
  {
   "cell_type": "code",
   "execution_count": null,
   "id": "9f5caafc-680f-4d59-b159-8aa6ca4f7482",
   "metadata": {},
   "outputs": [],
   "source": []
  }
 ],
 "metadata": {
  "kernelspec": {
   "display_name": "Python 3 (ipykernel)",
   "language": "python",
   "name": "python3"
  },
  "language_info": {
   "codemirror_mode": {
    "name": "ipython",
    "version": 3
   },
   "file_extension": ".py",
   "mimetype": "text/x-python",
   "name": "python",
   "nbconvert_exporter": "python",
   "pygments_lexer": "ipython3",
   "version": "3.11.5"
  }
 },
 "nbformat": 4,
 "nbformat_minor": 5
}
